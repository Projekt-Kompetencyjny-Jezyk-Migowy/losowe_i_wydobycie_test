{
 "cells": [
  {
   "cell_type": "code",
   "execution_count": 13,
   "id": "06a32743",
   "metadata": {},
   "outputs": [
    {
     "data": {
      "application/vnd.plotly.v1+json": {
       "config": {
        "plotlyServerURL": "https://plot.ly"
       },
       "data": [
        {
         "line": {
          "color": "red",
          "width": 4
         },
         "mode": "lines",
         "name": "wektor z lm_3",
         "type": "scatter3d",
         "x": [
          0.5468689203262329,
          0.5506211519241332
         ],
         "y": [
          0.5661187767982483,
          0.5349413752555848
         ],
         "z": [
          -0.0487037561833858,
          -0.0509072691202163
         ]
        },
        {
         "line": {
          "color": "red",
          "width": 4
         },
         "mode": "lines",
         "name": "wektor z lm_0",
         "type": "scatter3d",
         "x": [
          0.4922300279140472,
          0.5218025445938109
         ],
         "y": [
          0.6449280381202698,
          0.551055371761322
         ],
         "z": [
          2.720861118632456e-7,
          -0.022601842880248937
         ]
        },
        {
         "line": {
          "color": "red",
          "width": 4
         },
         "mode": "lines",
         "name": "wektor z lm_17",
         "type": "scatter3d",
         "x": [
          0.4662193059921264,
          0.4492798745632171
         ],
         "y": [
          0.5631217360496521,
          0.5509547591209412
         ],
         "z": [
          0.0058908239006996,
          -0.0170004945248365
         ]
        },
        {
         "line": {
          "color": "red",
          "width": 4
         },
         "mode": "lines",
         "name": "wektor z lm_0",
         "type": "scatter3d",
         "x": [
          0.4922300279140472,
          0.46621930599212646
         ],
         "y": [
          0.6449280381202698,
          0.5631217360496522
         ],
         "z": [
          2.720861118632456e-7,
          0.0058908239006995634
         ]
        },
        {
         "line": {
          "color": "red",
          "width": 4
         },
         "mode": "lines",
         "name": "wektor z lm_13",
         "type": "scatter3d",
         "x": [
          0.4822691977024078,
          0.45662575960159296
         ],
         "y": [
          0.5544202327728271,
          0.5393179655075073
         ],
         "z": [
          -0.0009684460819698,
          -0.0259817391633986
         ]
        },
        {
         "line": {
          "color": "red",
          "width": 4
         },
         "mode": "lines",
         "name": "wektor z lm_13",
         "type": "scatter3d",
         "x": [
          0.4822691977024078,
          0.46621930599212646
         ],
         "y": [
          0.5544202327728271,
          0.5631217360496521
         ],
         "z": [
          -0.0009684460819698,
          0.0058908239006997
         ]
        },
        {
         "line": {
          "color": "red",
          "width": 4
         },
         "mode": "lines",
         "name": "wektor z lm_18",
         "type": "scatter3d",
         "x": [
          0.4492798745632171,
          0.4455990195274353
         ],
         "y": [
          0.5509547591209412,
          0.5711644887924193
         ],
         "z": [
          -0.0170004945248365,
          -0.023397564888000398
         ]
        },
        {
         "line": {
          "color": "red",
          "width": 4
         },
         "mode": "lines",
         "name": "wektor z lm_5",
         "type": "scatter3d",
         "x": [
          0.521802544593811,
          0.530130922794342
         ],
         "y": [
          0.551055371761322,
          0.5068613886833191
         ],
         "z": [
          -0.022601842880249,
          -0.0311152655631303
         ]
        },
        {
         "line": {
          "color": "red",
          "width": 4
         },
         "mode": "lines",
         "name": "wektor z lm_5",
         "type": "scatter3d",
         "x": [
          0.521802544593811,
          0.5010187625885011
         ],
         "y": [
          0.551055371761322,
          0.5483307838439943
         ],
         "z": [
          -0.022601842880249,
          -0.0100649790838361
         ]
        },
        {
         "line": {
          "color": "red",
          "width": 4
         },
         "mode": "lines",
         "name": "wektor z lm_14",
         "type": "scatter3d",
         "x": [
          0.456625759601593,
          0.4503375589847565
         ],
         "y": [
          0.5393179655075073,
          0.5626859664916991
         ],
         "z": [
          -0.0259817391633987,
          -0.0363591536879539
         ]
        },
        {
         "line": {
          "color": "red",
          "width": 4
         },
         "mode": "lines",
         "name": "wektor z lm_0",
         "type": "scatter3d",
         "x": [
          0.4922300279140472,
          0.5107248425483703
         ],
         "y": [
          0.6449280381202698,
          0.6303865909576417
         ],
         "z": [
          2.720861118632456e-7,
          -0.03643764927983284
         ]
        },
        {
         "line": {
          "color": "red",
          "width": 4
         },
         "mode": "lines",
         "name": "wektor z lm_9",
         "type": "scatter3d",
         "x": [
          0.501018762588501,
          0.49217453598976135
         ],
         "y": [
          0.5483307838439941,
          0.5076668262481691
         ],
         "z": [
          -0.010064979083836,
          -0.0237610042095183
         ]
        },
        {
         "line": {
          "color": "red",
          "width": 4
         },
         "mode": "lines",
         "name": "wektor z lm_1",
         "type": "scatter3d",
         "x": [
          0.5107248425483704,
          0.5329599380493164
         ],
         "y": [
          0.6303865909576416,
          0.6002371907234192
         ],
         "z": [
          -0.0364376492798328,
          -0.045320190489292096
         ]
        },
        {
         "line": {
          "color": "red",
          "width": 4
         },
         "mode": "lines",
         "name": "wektor z lm_9",
         "type": "scatter3d",
         "x": [
          0.501018762588501,
          0.4822691977024079
         ],
         "y": [
          0.5483307838439941,
          0.5544202327728271
         ],
         "z": [
          -0.010064979083836,
          -0.0009684460819699009
         ]
        },
        {
         "line": {
          "color": "red",
          "width": 4
         },
         "mode": "lines",
         "name": "wektor z lm_10",
         "type": "scatter3d",
         "x": [
          0.4921745359897613,
          0.48133373260498047
         ],
         "y": [
          0.507666826248169,
          0.4815128445625305
         ],
         "z": [
          -0.0237610042095184,
          -0.0339248254895209
         ]
        },
        {
         "line": {
          "color": "red",
          "width": 4
         },
         "mode": "lines",
         "name": "wektor z lm_19",
         "type": "scatter3d",
         "x": [
          0.4455990195274353,
          0.4487875699996948
         ],
         "y": [
          0.5711644887924194,
          0.5906179547309875
         ],
         "z": [
          -0.0233975648880004,
          -0.022248556837439502
         ]
        },
        {
         "line": {
          "color": "red",
          "width": 4
         },
         "mode": "lines",
         "name": "wektor z lm_6",
         "type": "scatter3d",
         "x": [
          0.530130922794342,
          0.5317367315292357
         ],
         "y": [
          0.5068613886833191,
          0.4805873632431031
         ],
         "z": [
          -0.0311152655631303,
          -0.0367173030972479
         ]
        },
        {
         "line": {
          "color": "red",
          "width": 4
         },
         "mode": "lines",
         "name": "wektor z lm_15",
         "type": "scatter3d",
         "x": [
          0.4503375589847564,
          0.4503254294395446
         ],
         "y": [
          0.5626859664916992,
          0.5815909504890441
         ],
         "z": [
          -0.0363591536879539,
          -0.0355115719139576
         ]
        },
        {
         "line": {
          "color": "red",
          "width": 4
         },
         "mode": "lines",
         "name": "wektor z lm_2",
         "type": "scatter3d",
         "x": [
          0.5329599380493164,
          0.5468689203262329
         ],
         "y": [
          0.6002371907234192,
          0.5661187767982483
         ],
         "z": [
          -0.0453201904892921,
          -0.0487037561833858
         ]
        },
        {
         "line": {
          "color": "red",
          "width": 4
         },
         "mode": "lines",
         "name": "wektor z lm_11",
         "type": "scatter3d",
         "x": [
          0.4813337326049804,
          0.47130686044692993
         ],
         "y": [
          0.4815128445625305,
          0.4606925249099732
         ],
         "z": [
          -0.033924825489521,
          -0.038350038230419096
         ]
        },
        {
         "line": {
          "color": "red",
          "width": 4
         },
         "mode": "lines",
         "name": "wektor z lm_7",
         "type": "scatter3d",
         "x": [
          0.5317367315292358,
          0.5330145955085753
         ],
         "y": [
          0.480587363243103,
          0.4555307626724243
         ],
         "z": [
          -0.036717303097248,
          -0.0403103455901145
         ]
        }
       ],
       "layout": {
        "paper_bgcolor": "rgba(0,0,0,0)",
        "plot_bgcolor": "rgba(0,0,0,0)",
        "scene": {
         "xaxis": {
          "backgroundcolor": "rgba(0,0,0,0)",
          "gridcolor": "lightgray",
          "showbackground": false,
          "showgrid": false,
          "zeroline": false
         },
         "yaxis": {
          "backgroundcolor": "rgba(0,0,0,0)",
          "gridcolor": "lightgray",
          "showbackground": false,
          "showgrid": false,
          "zeroline": false
         },
         "zaxis": {
          "backgroundcolor": "rgba(0,0,0,0)",
          "gridcolor": "lightgray",
          "showbackground": false,
          "showgrid": false,
          "zeroline": false
         }
        },
        "showlegend": false,
        "template": {
         "data": {
          "bar": [
           {
            "error_x": {
             "color": "#2a3f5f"
            },
            "error_y": {
             "color": "#2a3f5f"
            },
            "marker": {
             "line": {
              "color": "#E5ECF6",
              "width": 0.5
             },
             "pattern": {
              "fillmode": "overlay",
              "size": 10,
              "solidity": 0.2
             }
            },
            "type": "bar"
           }
          ],
          "barpolar": [
           {
            "marker": {
             "line": {
              "color": "#E5ECF6",
              "width": 0.5
             },
             "pattern": {
              "fillmode": "overlay",
              "size": 10,
              "solidity": 0.2
             }
            },
            "type": "barpolar"
           }
          ],
          "carpet": [
           {
            "aaxis": {
             "endlinecolor": "#2a3f5f",
             "gridcolor": "white",
             "linecolor": "white",
             "minorgridcolor": "white",
             "startlinecolor": "#2a3f5f"
            },
            "baxis": {
             "endlinecolor": "#2a3f5f",
             "gridcolor": "white",
             "linecolor": "white",
             "minorgridcolor": "white",
             "startlinecolor": "#2a3f5f"
            },
            "type": "carpet"
           }
          ],
          "choropleth": [
           {
            "colorbar": {
             "outlinewidth": 0,
             "ticks": ""
            },
            "type": "choropleth"
           }
          ],
          "contour": [
           {
            "colorbar": {
             "outlinewidth": 0,
             "ticks": ""
            },
            "colorscale": [
             [
              0,
              "#0d0887"
             ],
             [
              0.1111111111111111,
              "#46039f"
             ],
             [
              0.2222222222222222,
              "#7201a8"
             ],
             [
              0.3333333333333333,
              "#9c179e"
             ],
             [
              0.4444444444444444,
              "#bd3786"
             ],
             [
              0.5555555555555556,
              "#d8576b"
             ],
             [
              0.6666666666666666,
              "#ed7953"
             ],
             [
              0.7777777777777778,
              "#fb9f3a"
             ],
             [
              0.8888888888888888,
              "#fdca26"
             ],
             [
              1,
              "#f0f921"
             ]
            ],
            "type": "contour"
           }
          ],
          "contourcarpet": [
           {
            "colorbar": {
             "outlinewidth": 0,
             "ticks": ""
            },
            "type": "contourcarpet"
           }
          ],
          "heatmap": [
           {
            "colorbar": {
             "outlinewidth": 0,
             "ticks": ""
            },
            "colorscale": [
             [
              0,
              "#0d0887"
             ],
             [
              0.1111111111111111,
              "#46039f"
             ],
             [
              0.2222222222222222,
              "#7201a8"
             ],
             [
              0.3333333333333333,
              "#9c179e"
             ],
             [
              0.4444444444444444,
              "#bd3786"
             ],
             [
              0.5555555555555556,
              "#d8576b"
             ],
             [
              0.6666666666666666,
              "#ed7953"
             ],
             [
              0.7777777777777778,
              "#fb9f3a"
             ],
             [
              0.8888888888888888,
              "#fdca26"
             ],
             [
              1,
              "#f0f921"
             ]
            ],
            "type": "heatmap"
           }
          ],
          "histogram": [
           {
            "marker": {
             "pattern": {
              "fillmode": "overlay",
              "size": 10,
              "solidity": 0.2
             }
            },
            "type": "histogram"
           }
          ],
          "histogram2d": [
           {
            "colorbar": {
             "outlinewidth": 0,
             "ticks": ""
            },
            "colorscale": [
             [
              0,
              "#0d0887"
             ],
             [
              0.1111111111111111,
              "#46039f"
             ],
             [
              0.2222222222222222,
              "#7201a8"
             ],
             [
              0.3333333333333333,
              "#9c179e"
             ],
             [
              0.4444444444444444,
              "#bd3786"
             ],
             [
              0.5555555555555556,
              "#d8576b"
             ],
             [
              0.6666666666666666,
              "#ed7953"
             ],
             [
              0.7777777777777778,
              "#fb9f3a"
             ],
             [
              0.8888888888888888,
              "#fdca26"
             ],
             [
              1,
              "#f0f921"
             ]
            ],
            "type": "histogram2d"
           }
          ],
          "histogram2dcontour": [
           {
            "colorbar": {
             "outlinewidth": 0,
             "ticks": ""
            },
            "colorscale": [
             [
              0,
              "#0d0887"
             ],
             [
              0.1111111111111111,
              "#46039f"
             ],
             [
              0.2222222222222222,
              "#7201a8"
             ],
             [
              0.3333333333333333,
              "#9c179e"
             ],
             [
              0.4444444444444444,
              "#bd3786"
             ],
             [
              0.5555555555555556,
              "#d8576b"
             ],
             [
              0.6666666666666666,
              "#ed7953"
             ],
             [
              0.7777777777777778,
              "#fb9f3a"
             ],
             [
              0.8888888888888888,
              "#fdca26"
             ],
             [
              1,
              "#f0f921"
             ]
            ],
            "type": "histogram2dcontour"
           }
          ],
          "mesh3d": [
           {
            "colorbar": {
             "outlinewidth": 0,
             "ticks": ""
            },
            "type": "mesh3d"
           }
          ],
          "parcoords": [
           {
            "line": {
             "colorbar": {
              "outlinewidth": 0,
              "ticks": ""
             }
            },
            "type": "parcoords"
           }
          ],
          "pie": [
           {
            "automargin": true,
            "type": "pie"
           }
          ],
          "scatter": [
           {
            "fillpattern": {
             "fillmode": "overlay",
             "size": 10,
             "solidity": 0.2
            },
            "type": "scatter"
           }
          ],
          "scatter3d": [
           {
            "line": {
             "colorbar": {
              "outlinewidth": 0,
              "ticks": ""
             }
            },
            "marker": {
             "colorbar": {
              "outlinewidth": 0,
              "ticks": ""
             }
            },
            "type": "scatter3d"
           }
          ],
          "scattercarpet": [
           {
            "marker": {
             "colorbar": {
              "outlinewidth": 0,
              "ticks": ""
             }
            },
            "type": "scattercarpet"
           }
          ],
          "scattergeo": [
           {
            "marker": {
             "colorbar": {
              "outlinewidth": 0,
              "ticks": ""
             }
            },
            "type": "scattergeo"
           }
          ],
          "scattergl": [
           {
            "marker": {
             "colorbar": {
              "outlinewidth": 0,
              "ticks": ""
             }
            },
            "type": "scattergl"
           }
          ],
          "scattermap": [
           {
            "marker": {
             "colorbar": {
              "outlinewidth": 0,
              "ticks": ""
             }
            },
            "type": "scattermap"
           }
          ],
          "scattermapbox": [
           {
            "marker": {
             "colorbar": {
              "outlinewidth": 0,
              "ticks": ""
             }
            },
            "type": "scattermapbox"
           }
          ],
          "scatterpolar": [
           {
            "marker": {
             "colorbar": {
              "outlinewidth": 0,
              "ticks": ""
             }
            },
            "type": "scatterpolar"
           }
          ],
          "scatterpolargl": [
           {
            "marker": {
             "colorbar": {
              "outlinewidth": 0,
              "ticks": ""
             }
            },
            "type": "scatterpolargl"
           }
          ],
          "scatterternary": [
           {
            "marker": {
             "colorbar": {
              "outlinewidth": 0,
              "ticks": ""
             }
            },
            "type": "scatterternary"
           }
          ],
          "surface": [
           {
            "colorbar": {
             "outlinewidth": 0,
             "ticks": ""
            },
            "colorscale": [
             [
              0,
              "#0d0887"
             ],
             [
              0.1111111111111111,
              "#46039f"
             ],
             [
              0.2222222222222222,
              "#7201a8"
             ],
             [
              0.3333333333333333,
              "#9c179e"
             ],
             [
              0.4444444444444444,
              "#bd3786"
             ],
             [
              0.5555555555555556,
              "#d8576b"
             ],
             [
              0.6666666666666666,
              "#ed7953"
             ],
             [
              0.7777777777777778,
              "#fb9f3a"
             ],
             [
              0.8888888888888888,
              "#fdca26"
             ],
             [
              1,
              "#f0f921"
             ]
            ],
            "type": "surface"
           }
          ],
          "table": [
           {
            "cells": {
             "fill": {
              "color": "#EBF0F8"
             },
             "line": {
              "color": "white"
             }
            },
            "header": {
             "fill": {
              "color": "#C8D4E3"
             },
             "line": {
              "color": "white"
             }
            },
            "type": "table"
           }
          ]
         },
         "layout": {
          "annotationdefaults": {
           "arrowcolor": "#2a3f5f",
           "arrowhead": 0,
           "arrowwidth": 1
          },
          "autotypenumbers": "strict",
          "coloraxis": {
           "colorbar": {
            "outlinewidth": 0,
            "ticks": ""
           }
          },
          "colorscale": {
           "diverging": [
            [
             0,
             "#8e0152"
            ],
            [
             0.1,
             "#c51b7d"
            ],
            [
             0.2,
             "#de77ae"
            ],
            [
             0.3,
             "#f1b6da"
            ],
            [
             0.4,
             "#fde0ef"
            ],
            [
             0.5,
             "#f7f7f7"
            ],
            [
             0.6,
             "#e6f5d0"
            ],
            [
             0.7,
             "#b8e186"
            ],
            [
             0.8,
             "#7fbc41"
            ],
            [
             0.9,
             "#4d9221"
            ],
            [
             1,
             "#276419"
            ]
           ],
           "sequential": [
            [
             0,
             "#0d0887"
            ],
            [
             0.1111111111111111,
             "#46039f"
            ],
            [
             0.2222222222222222,
             "#7201a8"
            ],
            [
             0.3333333333333333,
             "#9c179e"
            ],
            [
             0.4444444444444444,
             "#bd3786"
            ],
            [
             0.5555555555555556,
             "#d8576b"
            ],
            [
             0.6666666666666666,
             "#ed7953"
            ],
            [
             0.7777777777777778,
             "#fb9f3a"
            ],
            [
             0.8888888888888888,
             "#fdca26"
            ],
            [
             1,
             "#f0f921"
            ]
           ],
           "sequentialminus": [
            [
             0,
             "#0d0887"
            ],
            [
             0.1111111111111111,
             "#46039f"
            ],
            [
             0.2222222222222222,
             "#7201a8"
            ],
            [
             0.3333333333333333,
             "#9c179e"
            ],
            [
             0.4444444444444444,
             "#bd3786"
            ],
            [
             0.5555555555555556,
             "#d8576b"
            ],
            [
             0.6666666666666666,
             "#ed7953"
            ],
            [
             0.7777777777777778,
             "#fb9f3a"
            ],
            [
             0.8888888888888888,
             "#fdca26"
            ],
            [
             1,
             "#f0f921"
            ]
           ]
          },
          "colorway": [
           "#636efa",
           "#EF553B",
           "#00cc96",
           "#ab63fa",
           "#FFA15A",
           "#19d3f3",
           "#FF6692",
           "#B6E880",
           "#FF97FF",
           "#FECB52"
          ],
          "font": {
           "color": "#2a3f5f"
          },
          "geo": {
           "bgcolor": "white",
           "lakecolor": "white",
           "landcolor": "#E5ECF6",
           "showlakes": true,
           "showland": true,
           "subunitcolor": "white"
          },
          "hoverlabel": {
           "align": "left"
          },
          "hovermode": "closest",
          "mapbox": {
           "style": "light"
          },
          "paper_bgcolor": "white",
          "plot_bgcolor": "#E5ECF6",
          "polar": {
           "angularaxis": {
            "gridcolor": "white",
            "linecolor": "white",
            "ticks": ""
           },
           "bgcolor": "#E5ECF6",
           "radialaxis": {
            "gridcolor": "white",
            "linecolor": "white",
            "ticks": ""
           }
          },
          "scene": {
           "xaxis": {
            "backgroundcolor": "#E5ECF6",
            "gridcolor": "white",
            "gridwidth": 2,
            "linecolor": "white",
            "showbackground": true,
            "ticks": "",
            "zerolinecolor": "white"
           },
           "yaxis": {
            "backgroundcolor": "#E5ECF6",
            "gridcolor": "white",
            "gridwidth": 2,
            "linecolor": "white",
            "showbackground": true,
            "ticks": "",
            "zerolinecolor": "white"
           },
           "zaxis": {
            "backgroundcolor": "#E5ECF6",
            "gridcolor": "white",
            "gridwidth": 2,
            "linecolor": "white",
            "showbackground": true,
            "ticks": "",
            "zerolinecolor": "white"
           }
          },
          "shapedefaults": {
           "line": {
            "color": "#2a3f5f"
           }
          },
          "ternary": {
           "aaxis": {
            "gridcolor": "white",
            "linecolor": "white",
            "ticks": ""
           },
           "baxis": {
            "gridcolor": "white",
            "linecolor": "white",
            "ticks": ""
           },
           "bgcolor": "#E5ECF6",
           "caxis": {
            "gridcolor": "white",
            "linecolor": "white",
            "ticks": ""
           }
          },
          "title": {
           "x": 0.05
          },
          "xaxis": {
           "automargin": true,
           "gridcolor": "white",
           "linecolor": "white",
           "ticks": "",
           "title": {
            "standoff": 15
           },
           "zerolinecolor": "white",
           "zerolinewidth": 2
          },
          "yaxis": {
           "automargin": true,
           "gridcolor": "white",
           "linecolor": "white",
           "ticks": "",
           "title": {
            "standoff": 15
           },
           "zerolinecolor": "white",
           "zerolinewidth": 2
          }
         }
        },
        "title": {
         "text": "Wektory 3D (bez punktów i tła)"
        }
       }
      }
     },
     "metadata": {},
     "output_type": "display_data"
    }
   ],
   "source": [
    "# Plotly wykres\n",
    "fig = go.Figure()\n",
    "\n",
    "# --- USUNIĘTA SEKCJA PUNKTÓW ---\n",
    "# fig.add_trace(go.Scatter3d(\n",
    "#     x=points[:, 0], y=points[:, 1], z=points[:, 2],\n",
    "#     mode='markers+text',\n",
    "#     marker=dict(size=4, color='blue'),\n",
    "#     text=[f'lm_{i}' for i in range(21)],\n",
    "#     name='Punkty'\n",
    "# ))\n",
    "\n",
    "# Wektory\n",
    "for origin_idx, vec in zip(vector_origins, vectors):\n",
    "    origin = points[origin_idx]\n",
    "    end = origin + vec\n",
    "    fig.add_trace(go.Scatter3d(\n",
    "        x=[origin[0], end[0]],\n",
    "        y=[origin[1], end[1]],\n",
    "        z=[origin[2], end[2]],\n",
    "        mode='lines',\n",
    "        line=dict(color='red', width=4),\n",
    "        name=f'wektor z lm_{origin_idx}'\n",
    "    ))\n",
    "\n",
    "fig.update_layout(\n",
    "    scene=dict(\n",
    "        xaxis=dict(\n",
    "            backgroundcolor='rgba(0,0,0,0)',\n",
    "            gridcolor='lightgray',\n",
    "            showbackground=False,\n",
    "            showgrid=False,\n",
    "            zeroline=False\n",
    "        ),\n",
    "        yaxis=dict(\n",
    "            backgroundcolor='rgba(0,0,0,0)',\n",
    "            gridcolor='lightgray',\n",
    "            showbackground=False,\n",
    "            showgrid=False,\n",
    "            zeroline=False\n",
    "        ),\n",
    "        zaxis=dict(\n",
    "            backgroundcolor='rgba(0,0,0,0)',\n",
    "            gridcolor='lightgray',\n",
    "            showbackground=False,\n",
    "            showgrid=False,\n",
    "            zeroline=False\n",
    "        ),\n",
    "    ),\n",
    "    title='Wektory 3D (bez punktów i tła)',\n",
    "    paper_bgcolor='rgba(0,0,0,0)',\n",
    "    plot_bgcolor='rgba(0,0,0,0)',\n",
    "    showlegend=False\n",
    ")\n",
    "\n",
    "\n",
    "\n",
    "\n",
    "fig.show()\n"
   ]
  }
 ],
 "metadata": {
  "kernelspec": {
   "display_name": "Python 3",
   "language": "python",
   "name": "python3"
  },
  "language_info": {
   "codemirror_mode": {
    "name": "ipython",
    "version": 3
   },
   "file_extension": ".py",
   "mimetype": "text/x-python",
   "name": "python",
   "nbconvert_exporter": "python",
   "pygments_lexer": "ipython3",
   "version": "3.11.2"
  }
 },
 "nbformat": 4,
 "nbformat_minor": 5
}
