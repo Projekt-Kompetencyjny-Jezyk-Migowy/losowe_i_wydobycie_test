{
 "cells": [
  {
   "cell_type": "code",
   "execution_count": 3,
   "id": "1fcd802c",
   "metadata": {},
   "outputs": [
    {
     "name": "stderr",
     "output_type": "stream",
     "text": [
      "c:\\Users\\Lenovo\\AppData\\Local\\Programs\\Python\\Python311\\Lib\\site-packages\\sklearn\\utils\\validation.py:2739: UserWarning: X does not have valid feature names, but StandardScaler was fitted with feature names\n",
      "  warnings.warn(\n",
      "WARNING:absl:Compiled the loaded model, but the compiled metrics have yet to be built. `model.compile_metrics` will be empty until you train or evaluate the model.\n"
     ]
    },
    {
     "name": "stdout",
     "output_type": "stream",
     "text": [
      "\u001b[1m1/1\u001b[0m \u001b[32m━━━━━━━━━━━━━━━━━━━━\u001b[0m\u001b[37m\u001b[0m \u001b[1m0s\u001b[0m 53ms/step\n",
      "🧠 TensorFlow - przewidziana klasa: a+\n",
      "🧠 PyTorch - przewidziana klasa: a+\n"
     ]
    }
   ],
   "source": [
    "import numpy as np\n",
    "import pandas as pd\n",
    "from sklearn.preprocessing import StandardScaler, LabelEncoder\n",
    "import tensorflow as tf\n",
    "import torch\n",
    "import torch.nn as nn\n",
    "\n",
    "class Net(nn.Module):\n",
    "    def __init__(self, input_dim, output_dim):\n",
    "        super().__init__()\n",
    "        self.net = nn.Sequential(\n",
    "            nn.Linear(input_dim, 128),\n",
    "            nn.ReLU(),\n",
    "            nn.Linear(128, 64),\n",
    "            nn.ReLU(),\n",
    "            nn.Linear(64, output_dim)\n",
    "        )\n",
    "\n",
    "    def forward(self, x):\n",
    "        return self.net(x)\n",
    "\n",
    "# === Przygotowanie danych ===\n",
    "# Wczytaj dane, aby uzyskać te same skalowanie i kodowanie etykiet\n",
    "data = pd.read_excel(\"złączone_dane.xlsx\")\n",
    "data = data.drop(\"image_id\", axis=1)\n",
    "data = data.drop(columns=[col for col in data.columns if any(x in col for x in ['3_p', '4_p', '5_p'])])\n",
    "\n",
    "X = data.drop(\"label\", axis=1)\n",
    "y = data[\"label\"]\n",
    "\n",
    "# Dopasuj LabelEncoder i StandardScaler\n",
    "le = LabelEncoder()\n",
    "y_encoded = le.fit_transform(y)\n",
    "scaler = StandardScaler()\n",
    "X_scaled = scaler.fit_transform(X)\n",
    "\n",
    "# === Przykładowy nowy rekord (np. pierwszy z oryginalnego zbioru) ===\n",
    "sample = X.iloc[0].values.reshape(1, -1)\n",
    "sample_scaled = scaler.transform(sample)\n",
    "\n",
    "# === TensorFlow model ===\n",
    "model_tf = tf.keras.models.load_model(\"models/NeuralNet_TF.h5\")\n",
    "pred_tf = np.argmax(model_tf.predict(sample_scaled), axis=1)\n",
    "pred_label_tf = le.inverse_transform(pred_tf)\n",
    "print(f\"🧠 TensorFlow - przewidziana klasa: {pred_label_tf[0]}\")\n",
    "\n",
    "# === PyTorch model ===\n",
    "input_dim = X.shape[1]\n",
    "output_dim = len(le.classes_)\n",
    "model_pt = Net(input_dim, output_dim)\n",
    "model_pt.load_state_dict(torch.load(\"models/NeuralNet_PT.pt\"))\n",
    "model_pt.eval()\n",
    "\n",
    "with torch.no_grad():\n",
    "    sample_tensor = torch.tensor(sample_scaled, dtype=torch.float32)\n",
    "    pred_pt = model_pt(sample_tensor)\n",
    "    pred_class_pt = torch.argmax(pred_pt, axis=1).item()\n",
    "    pred_label_pt = le.inverse_transform([pred_class_pt])\n",
    "    print(f\"🧠 PyTorch - przewidziana klasa: {pred_label_pt[0]}\")\n",
    "\n"
   ]
  }
 ],
 "metadata": {
  "kernelspec": {
   "display_name": "Python 3",
   "language": "python",
   "name": "python3"
  },
  "language_info": {
   "codemirror_mode": {
    "name": "ipython",
    "version": 3
   },
   "file_extension": ".py",
   "mimetype": "text/x-python",
   "name": "python",
   "nbconvert_exporter": "python",
   "pygments_lexer": "ipython3",
   "version": "3.11.2"
  }
 },
 "nbformat": 4,
 "nbformat_minor": 5
}
